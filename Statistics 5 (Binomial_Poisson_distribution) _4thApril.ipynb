{
 "cells": [
  {
   "cell_type": "code",
   "execution_count": 1,
   "metadata": {},
   "outputs": [],
   "source": [
    "# scipy.stats"
   ]
  },
  {
   "cell_type": "code",
   "execution_count": 2,
   "metadata": {},
   "outputs": [],
   "source": [
    "from scipy.stats import binom"
   ]
  },
  {
   "cell_type": "code",
   "execution_count": 4,
   "metadata": {},
   "outputs": [
    {
     "name": "stdout",
     "output_type": "stream",
     "text": [
      "0.11718750000000014\n"
     ]
    }
   ],
   "source": [
    "# What is the probability of getting 3 heads on flipping the coin 10 times\n",
    "# X/K 3;  n = 10;  p = .5\n",
    "\n",
    "result = binom.pmf(k=3,n=10,p=.5)\n",
    "print (result)"
   ]
  },
  {
   "cell_type": "code",
   "execution_count": 5,
   "metadata": {},
   "outputs": [
    {
     "data": {
      "text/plain": [
       "11.718750000000014"
      ]
     },
     "execution_count": 5,
     "metadata": {},
     "output_type": "execute_result"
    }
   ],
   "source": [
    "0.11718750000000014 * 100"
   ]
  },
  {
   "cell_type": "markdown",
   "metadata": {},
   "source": [
    "if you roll a die 16 times, what is the probability \n",
    " that a five (5) comes up 3 times?\n",
    "\n",
    "\n",
    "A die:   number  - 1 2 3 4 5 6\t\t\t1/6\n",
    "\n",
    "K (success) = 3 \n",
    "n  (trial) = 16\n",
    "p  =  1/6\n"
   ]
  },
  {
   "cell_type": "code",
   "execution_count": 9,
   "metadata": {},
   "outputs": [
    {
     "name": "stdout",
     "output_type": "stream",
     "text": [
      "0.2423137603371325\n"
     ]
    }
   ],
   "source": [
    "result = binom.pmf(k=3,n=16,p=1/6)\n",
    "print (result)"
   ]
  },
  {
   "cell_type": "code",
   "execution_count": 10,
   "metadata": {},
   "outputs": [
    {
     "name": "stdout",
     "output_type": "stream",
     "text": [
      "0.02772069418256786\n"
     ]
    }
   ],
   "source": [
    "result = binom.pmf(k=6,n=16,p=1/6)\n",
    "print (result)"
   ]
  },
  {
   "cell_type": "markdown",
   "metadata": {},
   "source": [
    "In the old days, there was a probability of 0.8 (80%) of success in any attempt to make a telephone call.\n",
    "\n",
    "\n",
    "\n",
    "\n",
    "\n",
    "\n",
    "\n",
    "\n",
    "\n",
    "\n",
    "\n",
    "Calculate the probability of having 7 successes in 10 attempts.\n",
    "\n",
    "Solution:\n",
    "\n",
    "\n",
    "\n",
    "\n",
    "Probability of success p = 0.8 (80%)   so  q = 0.2  (20%)\n",
    "\n",
    "k = successes in getting through.  7\n",
    "\n",
    "Probability = P(k = 7)\n",
    "\n",
    "Attempts (n) =  10\n",
    "Probability (p) - 0.8 or 80%\n"
   ]
  },
  {
   "cell_type": "code",
   "execution_count": 11,
   "metadata": {},
   "outputs": [
    {
     "name": "stdout",
     "output_type": "stream",
     "text": [
      "0.20132659200000014\n"
     ]
    }
   ],
   "source": [
    "result = binom.pmf(k=7, n=10, p=0.8)\n",
    "print (result)"
   ]
  },
  {
   "cell_type": "code",
   "execution_count": 16,
   "metadata": {},
   "outputs": [
    {
     "name": "stdout",
     "output_type": "stream",
     "text": [
      "0.10737418240000005\n"
     ]
    }
   ],
   "source": [
    "result = binom.pmf(k=10, n=10, p=0.8)\n",
    "print (result)"
   ]
  },
  {
   "cell_type": "code",
   "execution_count": 17,
   "metadata": {},
   "outputs": [
    {
     "name": "stdout",
     "output_type": "stream",
     "text": [
      "0.10318229431910418\n"
     ]
    }
   ],
   "source": [
    "result = binom.pmf(k=10, n=15, p=0.8)\n",
    "print (result)"
   ]
  },
  {
   "cell_type": "code",
   "execution_count": 18,
   "metadata": {},
   "outputs": [
    {
     "name": "stdout",
     "output_type": "stream",
     "text": [
      "0.0\n"
     ]
    }
   ],
   "source": [
    "# what is the probability of 11 successes in 10 attempts\n",
    "#  NOT POSSIBLE \n",
    "\n",
    "# Probability is a number;   0(impossible)  to 1(possible)\n",
    "\n",
    "result = binom.pmf(k=11, n=10, p=0.8)\n",
    "print (result)"
   ]
  },
  {
   "cell_type": "markdown",
   "metadata": {},
   "source": [
    "60% of people who purchase sports cars are men.  If 10 sports car owners are randomly selected, find the probability that exactly 7 are men.\n",
    "K (success) = 7\n",
    "n = 10  (sample)\n",
    "p = .6\n"
   ]
  },
  {
   "cell_type": "code",
   "execution_count": 19,
   "metadata": {},
   "outputs": [
    {
     "name": "stdout",
     "output_type": "stream",
     "text": [
      "0.21499084800000012\n"
     ]
    }
   ],
   "source": [
    "result = binom.pmf(k=7, n=10, p=0.6)\n",
    "print (result)"
   ]
  },
  {
   "cell_type": "code",
   "execution_count": 22,
   "metadata": {},
   "outputs": [
    {
     "data": {
      "image/png": "[encoded data removed]",
      "text/plain": [
       "<Figure size 432x288 with 1 Axes>"
      ]
     },
     "metadata": {
      "needs_background": "light"
     },
     "output_type": "display_data"
    }
   ],
   "source": [
    "# Plotting \n",
    "#Probability of getting “heads” on flipping a coin two times\n",
    "\n",
    "X = [0,1,2]   #  no. of heads\n",
    "p = [.25,.5,.25]\n",
    "\n",
    "import matplotlib.pyplot as plt\n",
    "plt.bar(X,p)\n",
    "plt.show()"
   ]
  },
  {
   "cell_type": "markdown",
   "metadata": {},
   "source": [
    "A warehouse typically receives 8 deliveries  between 4pm to 5pm on friday.\n",
    "\t\n",
    "\t8 →  mean/average\n",
    "\n",
    "\n",
    "What is the probability  Of only 4 deliveries will arrive between 4 to 5pm?\n",
    "\n",
    "\n",
    "\tX = 4;\t λ = 8  (avg)\n"
   ]
  },
  {
   "cell_type": "code",
   "execution_count": 28,
   "metadata": {},
   "outputs": [
    {
     "name": "stdout",
     "output_type": "stream",
     "text": [
      "0.057252288495362\n"
     ]
    }
   ],
   "source": [
    "from scipy.stats import poisson\n",
    "result = poisson.pmf(4,8)\n",
    "print (result)"
   ]
  },
  {
   "cell_type": "code",
   "execution_count": 31,
   "metadata": {},
   "outputs": [
    {
     "name": "stdout",
     "output_type": "stream",
     "text": [
      "0.013753967744002971\n"
     ]
    }
   ],
   "source": [
    "#Probability  of  deliveries fewer than 3\n",
    "\n",
    "#  2 or less;    2 or 1  ;cumulative\n",
    "\n",
    "result = poisson.cdf(2,8)\n",
    "print(result)\n"
   ]
  },
  {
   "cell_type": "code",
   "execution_count": 33,
   "metadata": {},
   "outputs": [
    {
     "name": "stdout",
     "output_type": "stream",
     "text": [
      "The probability of getting No deliveries in 5 min interval is 0.513417119032592\n"
     ]
    }
   ],
   "source": [
    "#Probability of no deliveries between ;   4 to 4:05 this friday\n",
    "\n",
    "#in 5 minutes time ;   actual is five minutes interval\n",
    "\n",
    "result = poisson.pmf(0,8/12)\n",
    "print(\"The probability of getting No deliveries in 5 min interval is\",result)\n",
    "\n",
    "\n"
   ]
  },
  {
   "cell_type": "code",
   "execution_count": 32,
   "metadata": {},
   "outputs": [
    {
     "data": {
      "text/plain": [
       "12.0"
      ]
     },
     "execution_count": 32,
     "metadata": {},
     "output_type": "execute_result"
    }
   ],
   "source": [
    "60/5"
   ]
  },
  {
   "cell_type": "code",
   "execution_count": null,
   "metadata": {},
   "outputs": [],
   "source": []
  }
 ],
 "metadata": {
  "kernelspec": {
   "display_name": "Python 3",
   "language": "python",
   "name": "python3"
  },
  "language_info": {
   "codemirror_mode": {
    "name": "ipython",
    "version": 3
   },
   "file_extension": ".py",
   "mimetype": "text/x-python",
   "name": "python",
   "nbconvert_exporter": "python",
   "pygments_lexer": "ipython3",
   "version": "3.7.4"
  }
 },
 "nbformat": 4,
 "nbformat_minor": 2
}
